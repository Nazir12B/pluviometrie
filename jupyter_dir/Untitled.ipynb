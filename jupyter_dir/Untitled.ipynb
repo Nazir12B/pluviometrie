{
 "cells": [
  {
   "cell_type": "code",
   "execution_count": 2,
   "id": "aa80a9d5",
   "metadata": {},
   "outputs": [
    {
     "name": "stdout",
     "output_type": "stream",
     "text": [
      "Collecting pandas\n",
      "  Using cached pandas-1.1.5-cp36-cp36m-manylinux1_x86_64.whl (9.5 MB)\n",
      "Collecting pytz>=2017.2\n",
      "  Using cached pytz-2021.3-py2.py3-none-any.whl (503 kB)\n",
      "Collecting numpy>=1.15.4\n",
      "  Using cached numpy-1.19.5-cp36-cp36m-manylinux2010_x86_64.whl (14.8 MB)\n",
      "Requirement already satisfied: python-dateutil>=2.7.3 in ./jupyter_en/lib/python3.6/site-packages (from pandas) (2.8.2)\n",
      "Requirement already satisfied: six>=1.5 in ./jupyter_en/lib/python3.6/site-packages (from python-dateutil>=2.7.3->pandas) (1.16.0)\n",
      "Installing collected packages: pytz, numpy, pandas\n",
      "Successfully installed numpy-1.19.5 pandas-1.1.5 pytz-2021.3\n",
      "\u001b[33mWARNING: You are using pip version 21.2.4; however, version 21.3.1 is available.\n",
      "You should consider upgrading via the '/home/nazir/Téléchargements/pluviometrie/jupyter_dir/jupyter_en/bin/python -m pip install --upgrade pip' command.\u001b[0m\n"
     ]
    },
    {
     "name": "stderr",
     "output_type": "stream",
     "text": [
      "/home/nazir/Téléchargements/pluviometrie/jupyter_dir/jupyter_en/lib/python3.6/site-packages/pandas/compat/__init__.py:120: UserWarning: Could not import the lzma module. Your installed Python is incomplete. Attempting to use lzma compression will result in a RuntimeError.\n",
      "  warnings.warn(msg)\n"
     ]
    }
   ],
   "source": [
    "!pip install pandas"
   ]
  },
  {
   "cell_type": "code",
   "execution_count": 4,
   "id": "48d303ae",
   "metadata": {},
   "outputs": [
    {
     "name": "stdout",
     "output_type": "stream",
     "text": [
      "Requirement already satisfied: pandas in ./jupyter_en/lib/python3.6/site-packages (1.1.5)\n",
      "Requirement already satisfied: pytz>=2017.2 in ./jupyter_en/lib/python3.6/site-packages (from pandas) (2021.3)\n",
      "Requirement already satisfied: numpy>=1.15.4 in ./jupyter_en/lib/python3.6/site-packages (from pandas) (1.19.5)\n",
      "Requirement already satisfied: python-dateutil>=2.7.3 in ./jupyter_en/lib/python3.6/site-packages (from pandas) (2.8.2)\n",
      "Requirement already satisfied: six>=1.5 in ./jupyter_en/lib/python3.6/site-packages (from python-dateutil>=2.7.3->pandas) (1.16.0)\n",
      "\u001b[33mWARNING: You are using pip version 21.2.4; however, version 21.3.1 is available.\n",
      "You should consider upgrading via the '/home/nazir/Téléchargements/pluviometrie/jupyter_dir/jupyter_en/bin/python -m pip install --upgrade pip' command.\u001b[0m\n"
     ]
    }
   ],
   "source": [
    "!pip3 install --upgrade pandas\n"
   ]
  },
  {
   "cell_type": "code",
   "execution_count": 9,
   "id": "75ff046d",
   "metadata": {},
   "outputs": [
    {
     "name": "stdout",
     "output_type": "stream",
     "text": [
      "Requirement already satisfied: openpyxl in ./jupyter_en/lib/python3.6/site-packages (3.0.9)\n",
      "Requirement already satisfied: et-xmlfile in ./jupyter_en/lib/python3.6/site-packages (from openpyxl) (1.1.0)\n",
      "\u001b[33mWARNING: You are using pip version 21.2.4; however, version 21.3.1 is available.\n",
      "You should consider upgrading via the '/home/nazir/Téléchargements/pluviometrie/jupyter_dir/jupyter_en/bin/python -m pip install --upgrade pip' command.\u001b[0m\n"
     ]
    }
   ],
   "source": [
    "!pip install openpyxl\n"
   ]
  },
  {
   "cell_type": "code",
   "execution_count": 32,
   "id": "db4cfe94",
   "metadata": {},
   "outputs": [],
   "source": [
    "import pandas as pd\n",
    "dNati=pd.read_excel('parakou.xlsx', engine='openpyxl',sheet_name=\"Natitingou\")\n",
    "x=dNati.Geogr2\n",
    "tab_gorge2=[y for y in x]"
   ]
  },
  {
   "cell_type": "code",
   "execution_count": 37,
   "id": "88fe3276",
   "metadata": {},
   "outputs": [],
   "source": [
    "years=dNati.Year\n",
    "tab_year=[y for y in years]"
   ]
  },
  {
   "cell_type": "code",
   "execution_count": 38,
   "id": "76736658",
   "metadata": {},
   "outputs": [],
   "source": [
    "months=dNati.Month\n",
    "tab_month=[x for x in dNati.Month]\n"
   ]
  },
  {
   "cell_type": "code",
   "execution_count": 5,
   "id": "3c52efb2",
   "metadata": {},
   "outputs": [
    {
     "name": "stdout",
     "output_type": "stream",
     "text": [
      "         gorge2  anné  mois combined\n",
      "0     10.316667  1986     1   1/1986\n",
      "1     10.316667  1986     2   2/1986\n",
      "2     10.316667  1986     3   3/1986\n",
      "3     10.316667  1986     4   4/1986\n",
      "4     10.316667  1986     5   5/1986\n",
      "...         ...   ...   ...      ...\n",
      "2856  10.316667  2016     8   8/2016\n",
      "2857  10.316667  2016     9   9/2016\n",
      "2858  10.316667  2016    10  10/2016\n",
      "2859  10.316667  2016    11  11/2016\n",
      "2860  10.316667  2016    12  12/2016\n",
      "\n",
      "[2861 rows x 4 columns]\n"
     ]
    }
   ],
   "source": [
    "df = pd.DataFrame({'gorge2':tab_gorge2,'anné':tab_year, 'mois':tab_month})\n",
    "df['combined']=df.apply(lambda x:'%d/%d' % (x['mois'],x['anné']),axis=1)\n",
    "print(df)\n"
   ]
  },
  {
   "cell_type": "code",
   "execution_count": 39,
   "id": "f3c6a5d3",
   "metadata": {},
   "outputs": [],
   "source": [
    "tab_temps=[x for x in df['combined']]"
   ]
  },
  {
   "cell_type": "code",
   "execution_count": null,
   "id": "7bb56861",
   "metadata": {},
   "outputs": [],
   "source": [
    "!pip install matplotlib\n"
   ]
  },
  {
   "cell_type": "code",
   "execution_count": 40,
   "id": "f23eecf6",
   "metadata": {},
   "outputs": [
    {
     "data": {
      "image/png": "[encoded data removed]",
      "text/plain": [
       "<Figure size 432x288 with 1 Axes>"
      ]
     },
     "metadata": {
      "needs_background": "light"
     },
     "output_type": "display_data"
    }
   ],
   "source": [
    "plt.hist(df['gorge2'])\n",
    "plt.show()"
   ]
  },
  {
   "cell_type": "code",
   "execution_count": 41,
   "id": "300278cc",
   "metadata": {},
   "outputs": [
    {
     "data": {
      "image/png": "[encoded data removed]",
      "text/plain": [
       "<Figure size 432x288 with 1 Axes>"
      ]
     },
     "metadata": {
      "needs_background": "light"
     },
     "output_type": "display_data"
    }
   ],
   "source": [
    "from matplotlib import pyplot as plt \n",
    "plt.plot(tab_year,tab_gorge2)\n",
    "plt.show()"
   ]
  },
  {
   "cell_type": "code",
   "execution_count": 47,
   "id": "b0099a74",
   "metadata": {},
   "outputs": [
    {
     "data": {
      "text/plain": [
       "(array([0.00e+00, 2.86e+03, 0.00e+00, 0.00e+00, 0.00e+00, 0.00e+00,\n",
       "        0.00e+00, 0.00e+00, 0.00e+00, 1.00e+00]),\n",
       " array([10.316667, 10.316667, 10.316667, 10.316667, 10.316667, 10.316667,\n",
       "        10.316667, 10.316667, 10.316667, 10.316667, 10.316667]),\n",
       " <BarContainer object of 10 artists>)"
      ]
     },
     "execution_count": 47,
     "metadata": {},
     "output_type": "execute_result"
    },
    {
     "data": {
      "image/png": "[encoded data removed]",
      "text/plain": [
       "<Figure size 432x288 with 1 Axes>"
      ]
     },
     "metadata": {
      "needs_background": "light"
     },
     "output_type": "display_data"
    }
   ],
   "source": [
    "plt.hist(df['gorge2'])"
   ]
  },
  {
   "cell_type": "code",
   "execution_count": null,
   "id": "05a7cd9e",
   "metadata": {},
   "outputs": [],
   "source": []
  },
  {
   "cell_type": "code",
   "execution_count": null,
   "id": "fb6b8395",
   "metadata": {},
   "outputs": [],
   "source": []
  },
  {
   "cell_type": "code",
   "execution_count": null,
   "id": "4e914dad",
   "metadata": {},
   "outputs": [],
   "source": []
  },
  {
   "cell_type": "code",
   "execution_count": null,
   "id": "d75cc525",
   "metadata": {},
   "outputs": [],
   "source": []
  },
  {
   "cell_type": "code",
   "execution_count": null,
   "id": "09ee29fa",
   "metadata": {},
   "outputs": [],
   "source": []
  },
  {
   "cell_type": "code",
   "execution_count": null,
   "id": "827c127d",
   "metadata": {},
   "outputs": [],
   "source": []
  }
 ],
 "metadata": {
  "kernelspec": {
   "display_name": "Python 3",
   "language": "python",
   "name": "python3"
  },
  "language_info": {
   "codemirror_mode": {
    "name": "ipython",
    "version": 3
   },
   "file_extension": ".py",
   "mimetype": "text/x-python",
   "name": "python",
   "nbconvert_exporter": "python",
   "pygments_lexer": "ipython3",
   "version": "3.6.9"
  }
 },
 "nbformat": 4,
 "nbformat_minor": 5
}
